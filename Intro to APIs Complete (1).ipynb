{
 "cells": [
  {
   "cell_type": "markdown",
   "id": "7196054f",
   "metadata": {},
   "source": [
    "# Working with APIs"
   ]
  },
  {
   "cell_type": "markdown",
   "id": "0547b71e",
   "metadata": {},
   "source": [
    "API stands for Application programming interface<br>\n",
    "APIs are a way for applications to talk to eachother<br>\n",
    "In python we use the requests package to handle the connection<br>\n",
    "<small><strong>Note: It is requests with an s not request(this is a different package)</strong></small><br>\n",
    "Most API's communicate with data in the form of JSON<br>\n",
    "JSON stands for JavaScript Object Notation"
   ]
  },
  {
   "cell_type": "code",
   "execution_count": null,
   "id": "4db9d154",
   "metadata": {},
   "outputs": [],
   "source": [
    "#import the packages we need:\n",
    "\n",
    "import requests, json"
   ]
  },
  {
   "cell_type": "markdown",
   "id": "e8c2ce51",
   "metadata": {},
   "source": [
    "We will be connecting to the Ergast F1 Racer API today:\n",
    "http://ergast.com/mrd/\n",
    "\n",
    "to view JSON data nicely in the Chrome browser install the extension JSONview"
   ]
  },
  {
   "cell_type": "code",
   "execution_count": null,
   "id": "52c440c6",
   "metadata": {},
   "outputs": [],
   "source": [
    "help(requests)"
   ]
  },
  {
   "cell_type": "code",
   "execution_count": null,
   "id": "f60c1b4a",
   "metadata": {},
   "outputs": [],
   "source": [
    "url = \"http://ergast.com/api/f1/2008/5/driverStandings.json\""
   ]
  },
  {
   "cell_type": "code",
   "execution_count": null,
   "id": "7b63a204",
   "metadata": {},
   "outputs": [],
   "source": [
    "#response object\n",
    "response = requests.get(url)\n",
    "print(response)"
   ]
  },
  {
   "cell_type": "code",
   "execution_count": null,
   "id": "c6d1fdaf",
   "metadata": {},
   "outputs": [],
   "source": [
    "#check and make sure we got a successful response from the API\n",
    "response.ok"
   ]
  },
  {
   "cell_type": "code",
   "execution_count": null,
   "id": "ed4d3256",
   "metadata": {},
   "outputs": [],
   "source": [
    "#view the response as a JSON\n",
    "response.json()"
   ]
  },
  {
   "cell_type": "code",
   "execution_count": null,
   "id": "92e6cd2c",
   "metadata": {},
   "outputs": [],
   "source": [
    "type(response.json())"
   ]
  },
  {
   "cell_type": "code",
   "execution_count": null,
   "id": "f074dfcf",
   "metadata": {},
   "outputs": [],
   "source": [
    "# We only want the Driver Standings\n",
    "data = response.json()[\"MRData\"][\"StandingsTable\"][\"StandingsLists\"][0][\"DriverStandings\"]\n",
    "data"
   ]
  },
  {
   "cell_type": "code",
   "execution_count": null,
   "id": "d3794c75",
   "metadata": {},
   "outputs": [],
   "source": [
    "type(data)"
   ]
  },
  {
   "cell_type": "code",
   "execution_count": null,
   "id": "be46a950",
   "metadata": {},
   "outputs": [],
   "source": [
    "def get_racer_info(data):\n",
    "    new_data=[]\n",
    "    for racer in data:\n",
    "        racer_dict={}\n",
    "        racer_name = f\"{racer['Driver']['givenName']} {racer['Driver']['familyName']}\"\n",
    "        \n",
    "        racer_dict[racer_name]={\n",
    "            'first_name':racer['Driver']['givenName'],\n",
    "            'last_name':racer['Driver']['familyName'],\n",
    "            'position':racer['position'],\n",
    "            'wins':racer['wins'],\n",
    "            'DOB':racer['Driver']['dateOfBirth'],\n",
    "            'nationality':racer['Driver']['nationality'],\n",
    "            'contructor':racer['Constructors'][0]['name']\n",
    "        }\n",
    "        new_data.append(racer_dict)\n",
    "    return new_data\n",
    "\n",
    "get_racer_info(data)"
   ]
  },
  {
   "cell_type": "code",
   "execution_count": null,
   "id": "3740c752",
   "metadata": {},
   "outputs": [],
   "source": [
    "def get_driver_info_by_year_and_round(year,r):\n",
    "    url = f\"http://ergast.com/api/f1/{year}/{r}/driverStandings.json\"\n",
    "    response = requests.get(url)\n",
    "#     if not response.ok:\n",
    "    if not response.json()[\"MRData\"][\"StandingsTable\"][\"StandingsLists\"]:\n",
    "        return \"We had an error loading your data likely the year or round is not in the database\"\n",
    "    data = response.json()[\"MRData\"][\"StandingsTable\"][\"StandingsLists\"][0][\"DriverStandings\"]\n",
    "    return get_racer_info(data)\n",
    "\n",
    "get_driver_info_by_year_and_round(2022,4)"
   ]
  },
  {
   "cell_type": "markdown",
   "id": "6d546014",
   "metadata": {},
   "source": [
    "# <strong>Homework</strong>\n",
    "check out this Pokemon API https://pokeapi.co/\n",
    "Use the requests package to connect to this API and get and store data for 5 different pokemon.\n",
    "Get the pokemons: name, atleast one ability's name, base_experience, and the URL for its sprite (an image that shows up on screen) for the 'front_shiny'"
   ]
  },
  {
   "cell_type": "code",
   "execution_count": 49,
   "id": "5a9081e3",
   "metadata": {},
   "outputs": [
    {
     "name": "stdout",
     "output_type": "stream",
     "text": [
      "{'Name': 'pikachu', 'Ability': 'static', 'Base XP': 112, 'Front Shiny': 'https://raw.githubusercontent.com/PokeAPI/sprites/master/sprites/pokemon/shiny/25.png', 'Base ATK': 55, 'Base HP': 35, 'Base DEF': 40}\n"
     ]
    }
   ],
   "source": [
    "import requests as r\n",
    "\n",
    "# url1 = \"https://pokeapi.co/\"\n",
    "\n",
    "# response1 = requests.get(url1)\n",
    "# print(response1)\n",
    "\n",
    "# if response1.ok:\n",
    "#     data = response1.json()\n",
    "#     # print(data)\n",
    "#     pokemon_name = data[\"results\"][0]\n",
    "#     # pokemon_ability = data[\"results\"][\"name\"][\"url\"][\"abilities\"][\"ability\"][\"name\"]\n",
    "#     # print(pokemon_name)\n",
    "#     my_list = []\n",
    "#     # for info in pokemon_name:\n",
    "#     #     name = info[\"name\"]\n",
    "#     #     print(name)\n",
    "#     print(pokemon_name)\n",
    "#     for pokemon in pokemon_name:\n",
    "#         first_name = pokemon[\"name\"]\n",
    "#         my_list.append(first_name)\n",
    "#         print(my_list)\n",
    "\n",
    "def pokemon_info(pokemon):\n",
    "    url1 = f'https://pokeapi.co/api/v2/pokemon/{pokemon}'\n",
    "    response1 = requests.get(url1)\n",
    "    data = response1.json()\n",
    "    if response1.ok:\n",
    "        my_list = response1.json()\n",
    "        pokemon_list = {}\n",
    "        pokemon_list[\"Name\"] = my_list[\"name\"]\n",
    "        pokemon_list[\"Ability\"] = my_list[\"abilities\"][0][\"ability\"][\"name\"]\n",
    "        pokemon_list[\"Base XP\"] = my_list[\"base_experience\"]\n",
    "        pokemon_list[\"Front Shiny\"] = my_list[\"sprites\"][\"front_shiny\"]\n",
    "        pokemon_list[\"Base ATK\"] = my_list[\"stats\"][1][\"base_stat\"]\n",
    "        pokemon_list[\"Base HP\"] = my_list[\"stats\"][0][\"base_stat\"]\n",
    "        pokemon_list[\"Base DEF\"] = my_list[\"stats\"][2][\"base_stat\"]\n",
    "        print(pokemon_list)\n",
    "\n",
    "pokemon_info('pikachu')\n",
    "      \n",
    "\n",
    "# def findpokemon(pokemon):\n",
    "#     url = f'https://pokeapi.co/api/v2/pokemon/{pokemon}'\n",
    "#     response = r.get(url)\n",
    "#     # print(response)\n",
    "#     if response.ok:\n",
    "#         my_dict = response.json()\n",
    "#         # print(my_dict)\n",
    "#         pokemon_dict = {}\n",
    "#         pokemon_dict[\"Name\"] = my_dict[\"name\"]\n",
    "#         pokemon_dict[\"Ability\"] = my_dict[\"abilities\"][0][\"ability\"][\"name\"]\n",
    "#         pokemon_dict[\"Base XP\"] = my_dict[\"base_experience\"]\n",
    "#         pokemon_dict[\"Front Shiny\"] = my_dict[\"sprites\"][\"front_shiny\"]\n",
    "#         pokemon_dict[\"Base ATK\"] = my_dict[\"stats\"][1][\"base_stat\"]\n",
    "#         pokemon_dict[\"Base HP\"] = my_dict[\"stats\"][0][\"base_stat\"]\n",
    "#         pokemon_dict[\"Base DEF\"] = my_dict[\"stats\"][2][\"base_stat\"]\n",
    "#         print(pokemon_dict)\n",
    "#     else:\n",
    "#         return \"The pokemon you're looking for does not exist.\"\n",
    "\n",
    "# findpokemon(8)\n",
    "# findpokemon(321)\n",
    "\n",
    "\n"
   ]
  },
  {
   "cell_type": "code",
   "execution_count": null,
   "id": "0243a0e1",
   "metadata": {},
   "outputs": [],
   "source": []
  }
 ],
 "metadata": {
  "kernelspec": {
   "display_name": "Python 3 (ipykernel)",
   "language": "python",
   "name": "python3"
  },
  "language_info": {
   "codemirror_mode": {
    "name": "ipython",
    "version": 3
   },
   "file_extension": ".py",
   "mimetype": "text/x-python",
   "name": "python",
   "nbconvert_exporter": "python",
   "pygments_lexer": "ipython3",
   "version": "3.9.13"
  },
  "vscode": {
   "interpreter": {
    "hash": "aee8b7b246df8f9039afb4144a1f6fd8d2ca17a180786b69acc140d282b71a49"
   }
  }
 },
 "nbformat": 4,
 "nbformat_minor": 5
}
